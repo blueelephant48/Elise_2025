{
 "cells": [
  {
   "cell_type": "raw",
   "metadata": {
    "vscode": {
     "languageId": "raw"
    }
   },
   "source": [
    "---\n",
    "layout: post\n",
    "title: RPG Ideation\n",
    "description:  Ideation and plans for our RPG game!\n",
    "type: issues \n",
    "comments: true\n",
    "---"
   ]
  },
  {
   "cell_type": "markdown",
   "metadata": {},
   "source": [
    "![Image](https://github.com/user-attachments/assets/118d374b-ef5c-4357-8827-a303485f169b)"
   ]
  },
  {
   "cell_type": "markdown",
   "metadata": {},
   "source": [
    "The first class is GameControl. Within that, there are two attributes: gameLevels[], which contains options for which level of the game to play, and currentLevelIndex, which tracks the currently active level. There are three methods within that, start(), transitionToLevel(), which can help you switch levels, and gameLoop(), which makes the game’s main loop run.\n",
    "\n",
    "After it goes through that class, it goes to GameLevel. This contains the objects in the level and the level’s environment. The methods it contains create the environment for the game, load the level, and also load its objects.\n",
    "\n",
    "From there it goes to GameEnv and GameObject. GameEnv sets the background for the game, such as the size of the canvas. There are methods in there to size, resize, and clear the canvas.\n",
    "\n",
    "GameObject references GameLevel and holds multiple instances of it. The method state{} manages the character’s current state in the game (what it’s doing). Hitbox{} tells how large the area is that other characters can interact with. The other methods draw the objects in the game, check for collisions, resize the object, update, and destroy the objects.\n",
    "\n",
    "Background inherits methods from GameObject and contains the image and image source.\n",
    "\n",
    "Character is the parent class of both NPC and Player and inherits from GameObject. It draws the character and places it in the right place, along with animating it and putting it in its direction. \n",
    "\n",
    "NPC inherits from Character and has a method, bindInterectKeyListeners, that checks for interactions that are broadcasted and also handles key interactions\n",
    "\n",
    "Player inherits from Player and uses bindMovementKeyListeners() to let the player move around and interact.\n"
   ]
  },
  {
   "cell_type": "markdown",
   "metadata": {},
   "source": [
    "![Image](https://github.com/user-attachments/assets/4dc00214-997b-4c11-a711-a089bf33550c)"
   ]
  },
  {
   "cell_type": "markdown",
   "metadata": {},
   "source": [
    "This is our flowchart for our game level. We want to make a sort of space escape room game where the player (Adventurer) adventures through space while meeting other NPCs to get hints to move on to the next level."
   ]
  },
  {
   "cell_type": "markdown",
   "metadata": {},
   "source": [
    "![Image](https://github.com/user-attachments/assets/28bf6b41-8513-41f3-83d4-dd2313758c1a)\n",
    "![Image](https://github.com/user-attachments/assets/1c8d868c-0e26-4591-a849-3ba9adb42502)"
   ]
  }
 ],
 "metadata": {
  "language_info": {
   "name": "python"
  }
 },
 "nbformat": 4,
 "nbformat_minor": 2
}
