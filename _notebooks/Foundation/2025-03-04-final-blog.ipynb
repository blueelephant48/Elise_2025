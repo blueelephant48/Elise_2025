{
 "cells": [
  {
   "cell_type": "raw",
   "metadata": {
    "vscode": {
     "languageId": "raw"
    }
   },
   "source": [
    "---\n",
    "layout: post\n",
    "title: Final blog\n",
    "description:  Final blog!\n",
    "type: issues \n",
    "comments: true\n",
    "---"
   ]
  },
  {
   "cell_type": "markdown",
   "metadata": {},
   "source": [
    "### Part 1\n",
    "\n",
    "Over the past 12 weeks, I have done many things. These include: \n",
    "\n",
    "- Learning how to make my blog and important basics of coding.\n",
    "    At first, I didn’t know how to use Github and was having trouble with the tools, but I was able to figure them out and get them to work. The lessons from others have also enhanced my experience and broadened my understanding of coding in JavaScript."
   ]
  },
  {
   "cell_type": "markdown",
   "metadata": {},
   "source": [
    "![Image](https://github.com/user-attachments/assets/67348d99-7dae-4c0c-96c5-240f61837ad6)"
   ]
  },
  {
   "cell_type": "markdown",
   "metadata": {},
   "source": [
    "- I learned how to make and change parts of a simple game to make it my own.\n",
    "    I improved upon the basic game of snake and added my own touches that made my version unique\n",
    "    "
   ]
  },
  {
   "cell_type": "markdown",
   "metadata": {},
   "source": [
    "![Image](https://github.com/user-attachments/assets/13e79cea-d7c6-4307-a9ec-122840038197)"
   ]
  },
  {
   "cell_type": "markdown",
   "metadata": {},
   "source": [
    "- I learned more about how these lessons can be applied to the real world through the computer science panel.\n",
    "    This panel really opened my eyes to the real world and how these skills that I am learning right now are useful later in life. I took important notes for myself that will help me in the present and the future. "
   ]
  },
  {
   "cell_type": "markdown",
   "metadata": {},
   "source": [
    "![Image](https://github.com/user-attachments/assets/d1824fd4-502b-4a9c-8880-580b9067ba30)"
   ]
  },
  {
   "cell_type": "markdown",
   "metadata": {},
   "source": [
    "- Creating lessons and teaching others about a certain part of code. \n",
    "    I had to make sure to help make popcorn hacks and homework that matched the lessons that were being taught, along with explaining and giving clear instructions\n"
   ]
  },
  {
   "cell_type": "markdown",
   "metadata": {},
   "source": [
    "![Image](https://github.com/user-attachments/assets/ccf35175-42af-493a-8c9c-e8b6db5a947e)"
   ]
  },
  {
   "cell_type": "markdown",
   "metadata": {},
   "source": [
    "- Going through the design process to develop the RPG. \n",
    "    We had to brainstorm and come up with ideas on what to do for the RPG, then implement those ideas and bring them to life with our code\n"
   ]
  },
  {
   "cell_type": "markdown",
   "metadata": {},
   "source": [
    "![Image](https://github.com/user-attachments/assets/69e9ea69-f8d7-4040-a69c-55437effd42f)"
   ]
  },
  {
   "cell_type": "markdown",
   "metadata": {},
   "source": [
    "### Part 3 & 4\n",
    "\n",
    "Tinkers:\n",
    "\n",
    "1. I made the text box at the bottom of the screen show up and still keeps the game going"
   ]
  },
  {
   "cell_type": "code",
   "execution_count": null,
   "metadata": {
    "vscode": {
     "languageId": "javascript"
    }
   },
   "outputs": [],
   "source": [
    "if (hintBox && hintText) {\n",
    "    hintText.innerText = `${this.name || \"NPC\"}: \"${this.hint}\"`;\n",
    "    hintText.classList.remove(\"hidden\");\n",
    "    hintBox.style.display = \"block\";\n",
    "\n",
    "    document.getElementById(\"hint-close\").onclick = () => {\n",
    "        hintBox.classList.add(\"hidden\");\n",
    "        hintBox.style.display = \"none\";\n",
    "    };\n",
    "}"
   ]
  },
  {
   "cell_type": "code",
   "execution_count": null,
   "metadata": {
    "vscode": {
     "languageId": "html"
    }
   },
   "outputs": [],
   "source": [
    "\n",
    "#hint-box {\n",
    "    position: fixed;\n",
    "    bottom: 10%;\n",
    "    left: 50%;\n",
    "    transform: translateX(-50%);\n",
    "    width: 400px;\n",
    "    background: rgba(0, 0, 0, 0.8);\n",
    "    color: white;\n",
    "    padding: 15px;\n",
    "    border-radius: 10px;\n",
    "    text-align: center;\n",
    "    display: flex;\n",
    "    flex-direction: column;\n",
    "    align-items: center;\n",
    "    box-shadow: 0 0 10px rgba(255, 255, 255, 0.5);\n",
    "}\n",
    "\n",
    "#hint-box.hidden {\n",
    "    display: none;\n",
    "}\n",
    "\n",
    "#hint-close {\n",
    "    margin-top: 10px;\n",
    "    padding: 5px 10px;\n",
    "    background: red;\n",
    "    color: white;\n",
    "    border: none;\n",
    "    cursor: pointer;\n",
    "    border-radius: 5px;\n",
    "}"
   ]
  },
  {
   "cell_type": "markdown",
   "metadata": {},
   "source": [
    "The 1st code cell shows the box for the hint and how the text appears. The 2nd and 3rd code cell show the html for what the box looks like and how the close button works."
   ]
  },
  {
   "cell_type": "markdown",
   "metadata": {},
   "source": [
    "2. Made interactions happen when you press a certain key of the programmer’s choice instead of just “e” and “u”"
   ]
  },
  {
   "cell_type": "code",
   "execution_count": null,
   "metadata": {
    "vscode": {
     "languageId": "javascript"
    }
   },
   "outputs": [],
   "source": [
    "handleKeyDown({ keyCode }) {\n",
    "    if (keyCode === this.hintKey && this.hint) {// Player 1 interaction          \n",
    "        this.handleKeyInteract();\n",
    "    }\n",
    "}"
   ]
  },
  {
   "cell_type": "code",
   "execution_count": null,
   "metadata": {
    "vscode": {
     "languageId": "javascript"
    }
   },
   "outputs": [],
   "source": [
    "const sprite_src_ditto = path + \"/images/gamify/ditto.png\"; // be sure to include the path\n",
    "const sprite_data_ditto = {\n",
    "  id: \"Ditto\",\n",
    "  name: \"Ditto\",\n",
    "  greeting: \"Hi! I'm Ditto! Nice to meet you!\",\n",
    "  hintKey: 90,\n",
    "  hint: \"Planets are Indeed very large aNd you can see some by looKing at the night sky. By the way, my favorite letter is M!\",\n",
    "  src: sprite_src_ditto,\n",
    "  SCALE_FACTOR: 8, // Adjust this based on your scaling needs\n",
    "  ANIMATION_RATE: 50,\n",
    "  pixels: { height: 256, width: 256 },\n",
    "  INIT_POSITION: { x: width / 4, y: height / 4 },\n",
    "  orientation: { rows: 4, columns: 4 },\n",
    "  down: { row: 0, start: 0, columns: 4 },\n",
    "  left: { row: 1, start: 0, columns: 4 },\n",
    "  right: { row: 2, start: 0, columns: 4 },\n",
    "  up: { row: 3, start: 0, columns: 4 },\n",
    "  hitbox: { widthPercentage: 0.45, heightPercentage: 0.2 },\n",
    "};"
   ]
  },
  {
   "cell_type": "markdown",
   "metadata": {},
   "source": [
    "The 1st image is in the NPC.js and shows how it takes in the ascii keycode and waits for that to be pressed to start, instead of it just being the key “e” or “u”\n",
    "The 2nd image is in GameLevelSpace and shows how you can customize the keycode (Ditto’s keycode, 90, is the letter Z)"
   ]
  },
  {
   "cell_type": "markdown",
   "metadata": {},
   "source": [
    "3. Made it so that when you press the right key and try to interact with the character, you have to be within a certain distance. "
   ]
  },
  {
   "cell_type": "code",
   "execution_count": null,
   "metadata": {
    "vscode": {
     "languageId": "javascript"
    }
   },
   "outputs": [],
   "source": [
    "handleKeyInteract() {\n",
    "    var players = GameEnv.gameObjects.filter(obj => obj instanceof Player);\n",
    "    var npc = this;\n",
    "    var names = [];\n",
    "\n",
    "    if (players.length > 0 && npc) {\n",
    "        players.forEach(player => {\n",
    "            if (player.position.x !== undefined && player.position.y !== undefined) {\n",
    "                var distance = Math.sqrt(\n",
    "                    Math.pow(player.position.x - npc.position.x, 2) + Math.pow(player.position.y - npc.position.y, 2)\n",
    "                );\n",
    "\n",
    "                console.log(`Checking distance to ${this.name}: ${distance}`);\n",
    "\n",
    "                if (distance <= 150) {\n",
    "                    names.push(player.name || \"Player\");\n",
    "\n",
    "                    const hintBox = document.getElementById(\"hint-box\");\n",
    "                    const hintText = document.getElementById(\"hint-text\");\n",
    "\n",
    "                    if (hintBox && hintText) {\n",
    "                        hintText.innerText = `${this.name || \"NPC\"}: \"${this.hint}\"`;\n",
    "                        hintText.classList.remove(\"hidden\");\n",
    "                        hintBox.style.display = \"block\";\n",
    "\n",
    "                        document.getElementById(\"hint-close\").onclick = () => {\n",
    "                            hintBox.classList.add(\"hidden\");\n",
    "                            hintBox.style.display = \"none\";\n",
    "                        };\n",
    "                    }\n",
    "\n",
    "                    console.log(`${this.name} interacted with: \"${player.name || \"Player\"}\"`);\n",
    "                } else {\n",
    "                    console.warn(` Player too far from ${this.name} (${distance}px away)`);\n",
    "                }\n",
    "            }\n",
    "        });\n",
    "    }\n",
    "}"
   ]
  },
  {
   "cell_type": "markdown",
   "metadata": {},
   "source": [
    "This tinker for me took the most time. At first, you were able to press the button and the message would pop up wherever, but with this edit to the handleKeyInteract, now it checks if you are a certain distance from the npc, and if you are, it triggers the interaction. This code creates an array of names of the npcs that are close to the player. It then checks the distance between the names in the array and the player to see if the player is in range.\n",
    "\n",
    "\n",
    "Our flowchart! "
   ]
  },
  {
   "cell_type": "markdown",
   "metadata": {},
   "source": [
    "![Image](https://github.com/user-attachments/assets/91794a1b-faaa-469f-b8a0-cfdf34b4d1f1)"
   ]
  },
  {
   "cell_type": "markdown",
   "metadata": {},
   "source": [
    "A sprite sheet for the player that I made:\n",
    "\n",
    "![Image](https://github.com/user-attachments/assets/ea7bc81f-0aee-4856-b006-8ba66747f9cc)"
   ]
  },
  {
   "cell_type": "markdown",
   "metadata": {},
   "source": [
    "### Part 4\n",
    "\n",
    "#### N@TM\n",
    "\n",
    "We saw lots of great games at N@TM!\n",
    "\n",
    "One of the games we reviewed was very interesting where the player had to reach the wizard at the other side of the screen to get to the next level, but they had to do this before the bat reached the player, otherwise the player would explode. The explosion was a very cool feature they added. Something else they had was a black hole that the player could enter to get to the next level.\n",
    "\n",
    "Another very cool game we reviewed was where you had to interact with different npcs to escape the room, similar to ours, except there were multiple ways the conversation could go, since there were options for you to choose for your reply. There was also a quiz that got graded automatically.\n",
    "\n",
    "##### Feedback we recieved\n",
    "I like how the npcs have a spinning idle animation. It looks really cute!!!! Also, I like how to solve the game and escape you have to talk to multiple npcs and figure out puzzles. Good job! Btw you can improve the game by slowing down chillguy cuz rn bro literally thinks he’s Lightning Mqueen himself\n",
    "\n",
    "I like the cute pictures and interactivity. It’s a nice puzzle. It is challenging to figure out the puzzle and solve the game. Good job!\n",
    "\n",
    "This game was simple but very cute and fun to play! I loved the way the puzzles were made and the little hints that were given to the player in order to lead them in the right direction. In my opinion, this is a great game to start out with and could always use more puzzles to build onto it. Overall, this game is personally right up my alley and I enjoyed playing it and figuring out the puzzles with a little help from the NPCS!\n",
    "\n",
    "##### How we plan on improving:\n",
    "Based on the reviews we made our character slow down and are currently making the game easier for the user to understand and interact with. We made the character slow down by adjusting the animation rate. We are also planning on making a proximity function so that pressing a key will only reveal the text box if the player is in the npcs hitbox, otherwise the person playing the game can just end the game without going through the npcs."
   ]
  },
  {
   "cell_type": "markdown",
   "metadata": {},
   "source": [
    "\n",
    "\n",
    "\n",
    "\n",
    "\n",
    "\n",
    "### Part 5\n",
    "\n",
    "Throughout this trimester, this class has taught me many concepts about computer science that I would never have learned otherwise. Before this class, I wanted to understand how to create my own games and also wanted to learn about how to use GitHub. \n",
    "\n",
    "\n",
    "Through this class, I learned both of these things, and so much more that I had never even dreamed of. I was able to gain a deeper understanding of classes and methods, which I had struggled with understanding earlier, along with learning some basic Linux commands. I have even gained some confidence with presenting to others at Night at the Museum! I learned more about myself, too. \n",
    "\n",
    "\n",
    "I believe that I still need to learn more and more about coding, along with making sure to manage my time so that I keep a constant amount of work during each project. Some things that I have learned that I am good at are being able to understand necessary parts of the code to make my own.\n",
    "\n",
    "\n",
    "One of the reasons that I took this class was because I was considering pursuing a career in computer science. I want to make fun games that can make people laugh, smile, and possibly change their lives for the better. I hope that these teachings can help me do that, and I will continue to try to improve, even if I won’t be doing CSSE 2 next trimester.\n",
    "\n",
    "\n",
    "Overall, this trimester, I will grade myself a 0.93/1.0. I did well and was satisfied with a lot of what I did. Even so, I still believe that I could have done a lot of things better, but it is recognizing these faults that allow us to grow. I will keep this class in mind in a lot of my future decisions and won’t forget the important lessons that this class has taught me.\n"
   ]
  }
 ],
 "metadata": {
  "language_info": {
   "name": "python"
  }
 },
 "nbformat": 4,
 "nbformat_minor": 2
}
