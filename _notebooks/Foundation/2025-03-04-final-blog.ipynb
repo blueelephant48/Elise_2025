{
 "cells": [
  {
   "cell_type": "raw",
   "metadata": {
    "vscode": {
     "languageId": "raw"
    }
   },
   "source": [
    "---\n",
    "layout: post\n",
    "title: Final blog\n",
    "description:  Final blog!\n",
    "type: issues \n",
    "comments: true\n",
    "---"
   ]
  },
  {
   "cell_type": "markdown",
   "metadata": {},
   "source": [
    "### Part 1\n",
    "\n",
    "Over the past 12 weeks, I have done many things. These include: \n",
    "\n",
    "- Learning how to make my blog and important basics of coding.\n",
    "    At first, I didn’t know how to use Github and was having trouble with the tools, but I was able to figure them out and get them to work. The lessons from others have also enhanced my experience and broadened my understanding of coding in JavaScript."
   ]
  },
  {
   "cell_type": "markdown",
   "metadata": {},
   "source": [
    "![Image](https://github.com/user-attachments/assets/67348d99-7dae-4c0c-96c5-240f61837ad6)"
   ]
  },
  {
   "cell_type": "markdown",
   "metadata": {},
   "source": [
    "- I learned how to make and change parts of a simple game to make it my own.\n",
    "    I improved upon the basic game of snake and added my own touches that made my version unique\n",
    "    "
   ]
  },
  {
   "cell_type": "markdown",
   "metadata": {},
   "source": [
    "![Image](https://github.com/user-attachments/assets/13e79cea-d7c6-4307-a9ec-122840038197)"
   ]
  },
  {
   "cell_type": "markdown",
   "metadata": {},
   "source": [
    "- I learned more about how these lessons can be applied to the real world through the computer science panel.\n",
    "    This panel really opened my eyes to the real world and how these skills that I am learning right now are useful later in life. I took important notes for myself that will help me in the present and the future. "
   ]
  },
  {
   "cell_type": "markdown",
   "metadata": {},
   "source": [
    "![Image](https://github.com/user-attachments/assets/d1824fd4-502b-4a9c-8880-580b9067ba30)"
   ]
  },
  {
   "cell_type": "markdown",
   "metadata": {},
   "source": [
    "- Creating lessons and teaching others about a certain part of code. \n",
    "    I had to make sure to help make popcorn hacks and homework that matched the lessons that were being taught, along with explaining and giving clear instructions\n"
   ]
  },
  {
   "cell_type": "markdown",
   "metadata": {},
   "source": [
    "![Image](https://github.com/user-attachments/assets/ccf35175-42af-493a-8c9c-e8b6db5a947e)"
   ]
  },
  {
   "cell_type": "markdown",
   "metadata": {},
   "source": [
    "- Going through the design process to develop the RPG. \n",
    "    We had to brainstorm and come up with ideas on what to do for the RPG, then implement those ideas and bring them to life with our code\n"
   ]
  },
  {
   "cell_type": "markdown",
   "metadata": {},
   "source": [
    "![Image](https://github.com/user-attachments/assets/69e9ea69-f8d7-4040-a69c-55437effd42f)"
   ]
  },
  {
   "cell_type": "markdown",
   "metadata": {},
   "source": [
    "\n",
    "\n",
    "\n",
    "\n",
    "\n",
    "\n",
    "### Part 5\n",
    "\n",
    "Throughout this trimester, this class has taught me many concepts about computer science that I would never have learned otherwise. Before this class, I wanted to understand how to create my own games and also wanted to learn about how to use GitHub. \n",
    "\n",
    "\n",
    "Through this class, I learned both of these things, and so much more that I had never even dreamed of. I was able to gain a deeper understanding of classes and methods, which I had struggled with understanding earlier, along with learning some basic Linux commands. I have even gained some confidence with presenting to others at Night at the Museum! I learned more about myself, too. \n",
    "\n",
    "\n",
    "I believe that I still need to learn more and more about coding, along with making sure to manage my time so that I keep a constant amount of work during each project. Some things that I have learned that I am good at are being able to understand necessary parts of the code to make my own.\n",
    "\n",
    "\n",
    "One of the reasons that I took this class was because I was considering pursuing a career in computer science. I want to make fun games that can make people laugh, smile, and possibly change their lives for the better. I hope that these teachings can help me do that, and I will continue to try to improve, even if I won’t be doing CSSE 2 next trimester.\n",
    "\n",
    "\n",
    "Overall, this trimester, I will grade myself a 0.9/1.0. I did well and was satisfied with a lot of what I did. Even so, I still believe that I could have done a lot of things better, but it is recognizing these faults that allow us to grow. I will keep this class in mind in a lot of my future decisions and won’t forget the important lessons that this class has taught me.\n"
   ]
  }
 ],
 "metadata": {
  "language_info": {
   "name": "python"
  }
 },
 "nbformat": 4,
 "nbformat_minor": 2
}
