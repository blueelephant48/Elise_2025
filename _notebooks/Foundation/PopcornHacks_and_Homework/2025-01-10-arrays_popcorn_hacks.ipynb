{
 "cells": [
  {
   "cell_type": "raw",
   "metadata": {
    "vscode": {
     "languageId": "raw"
    }
   },
   "source": [
    "---\n",
    "layout: post\n",
    "title: Arrays Popcorn Hacks\n",
    "description: Finished Arrays Popcorn Hacks!\n",
    "type: issues \n",
    "comments: true\n",
    "---"
   ]
  },
  {
   "cell_type": "markdown",
   "metadata": {},
   "source": [
    "---\n",
    "Popcorn Hacks One\n",
    "---"
   ]
  },
  {
   "cell_type": "markdown",
   "metadata": {},
   "source": [
    " - Delete the last two items of the list below (delete1 and delete2)\n",
    " - Change the non dessert item (fries) to a dessert\n",
    " - Add two more desserts to list"
   ]
  },
  {
   "cell_type": "code",
   "execution_count": 8,
   "metadata": {
    "vscode": {
     "languageId": "javascript"
    }
   },
   "outputs": [
    {
     "data": {
      "application/javascript": "\nlet desserts = ['cake', 'ice cream', 'cookies', 'fries', 'delete1', 'delete2']\n\ndesserts.splice(4, 2);\ndesserts[3] = \"brownie\";\ndesserts.push(\"creme brulee\", \"almond jello\");\n\n\nconsole.log(desserts.join(\", \"))\n",
      "text/plain": [
       "<IPython.core.display.Javascript object>"
      ]
     },
     "metadata": {},
     "output_type": "display_data"
    }
   ],
   "source": [
    "%%js\n",
    "\n",
    "let desserts = ['cake', 'ice cream', 'cookies', 'fries', 'delete1', 'delete2'] // list of desserts\n",
    "\n",
    "desserts.splice(4, 2);//Deletes the 2 values of index 4 and after\n",
    "desserts[3] = \"brownie\";//sets element 3 to be brownie\n",
    "desserts.push(\"creme brulee\", \"almond jello\");//adds creme brulee and almond jello to the end of the list\n",
    "\n",
    "console.log(desserts.join(\", \"))//prints out desserts with a comma in between each of them\n"
   ]
  },
  {
   "cell_type": "markdown",
   "metadata": {},
   "source": [
    "---\n",
    "Popcorn Hacks Two\n",
    "---"
   ]
  },
  {
   "cell_type": "markdown",
   "metadata": {},
   "source": [
    "Instructions:\n",
    " - Create a length of a list and print it in console.log()\n",
    " - Create a variable called \"list\" or \"my_list_2\"\n",
    " - Create a list of numbers or words in the brackets [] Exp: let your_list = [3, 7, 9, 21];\n",
    " - Create a const length = your_list.length;\n",
    " - After all of that, finally print it out in console.log() Exp: console.log(your_list);"
   ]
  },
  {
   "cell_type": "code",
   "execution_count": 10,
   "metadata": {
    "vscode": {
     "languageId": "javascript"
    }
   },
   "outputs": [
    {
     "data": {
      "application/javascript": "\nlet pokemon = [\"Ditto\", \"Vaporeon\", \"Articuno\", \"Snom\"]; // create an variable\nconst length = pokemon.length; // create a const length\nconsole.log(length);\nconsole.log(pokemon.join(\", \")); // print out your list in console\n",
      "text/plain": [
       "<IPython.core.display.Javascript object>"
      ]
     },
     "metadata": {},
     "output_type": "display_data"
    }
   ],
   "source": [
    "%%js\n",
    "\n",
    "let pokemon = [\"Ditto\", \"Vaporeon\", \"Articuno\", \"Snom\"]; // create an variable\n",
    "const length = pokemon.length; // create a const length\n",
    "console.log(length);//prints out the length of the array\n",
    "console.log(pokemon.join(\", \")); // print out your list in console"
   ]
  }
 ],
 "metadata": {
  "kernelspec": {
   "display_name": "Python 3",
   "language": "python",
   "name": "python3"
  },
  "language_info": {
   "codemirror_mode": {
    "name": "ipython",
    "version": 3
   },
   "file_extension": ".py",
   "mimetype": "text/x-python",
   "name": "python",
   "nbconvert_exporter": "python",
   "pygments_lexer": "ipython3",
   "version": "3.12.3"
  }
 },
 "nbformat": 4,
 "nbformat_minor": 2
}
