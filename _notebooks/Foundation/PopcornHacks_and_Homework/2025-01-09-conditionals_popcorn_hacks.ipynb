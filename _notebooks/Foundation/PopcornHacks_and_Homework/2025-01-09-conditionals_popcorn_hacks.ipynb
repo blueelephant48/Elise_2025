{
 "cells": [
  {
   "cell_type": "raw",
   "metadata": {
    "vscode": {
     "languageId": "raw"
    }
   },
   "source": [
    "---\n",
    "layout: post\n",
    "title: Conditionals Popcorn Hacks\n",
    "description:  My finished conditionals popcorn hacks!\n",
    "type: issues \n",
    "comments: true\n",
    "---"
   ]
  },
  {
   "cell_type": "markdown",
   "metadata": {},
   "source": [
    "# Popcorn Hacks!\n",
    "You're at the mall with your friends, and head into the Build-A-Bear store. Use conditionals to decide what kind of bear you want with different accessories! The employee comes up to you and explains the steps. She states...\n",
    "\n",
    "\"Choose Me: Pick that special furry friend — from a silly superhero to a sporty mascot and a cheerleading bunny to a snuggly teddy bear.\n",
    "Hear Me: Add a special sound effect to your furry friend.\n",
    "Stuff Me: Customize your creation with sounds, scents, stuffing and, of course, our iconic special heart that holds your love and wishes.\n",
    "Hug Me: Give your furry friend its first hug to make sure it’s stuffed just right.\n",
    "Dress Me: Turn up the fun with outfits and extras!\n",
    "Name Me: It’s official once your creation has a birth certificate of its bear-y own!\"\n",
    "\n",
    "### Hack 1: Simple If-Statement\n",
    "Create a variable based on what kind of stuffed animal you want."
   ]
  },
  {
   "cell_type": "code",
   "execution_count": 4,
   "metadata": {
    "vscode": {
     "languageId": "javascript"
    }
   },
   "outputs": [
    {
     "data": {
      "application/javascript": "let bearType = \"_____\"; //Choose what kind of bear you want: Teddy or Unicorn (Example: let bearType = \"Teddyy\")\n\nif (bearType === \"____\") { //Put the same bear type from above into this line\n    console.log(\"You picked a snuggly ____ bear!\");\n}\n",
      "text/plain": [
       "<IPython.core.display.Javascript object>"
      ]
     },
     "metadata": {},
     "output_type": "display_data"
    }
   ],
   "source": [
    "%%js\n",
    "let bearType = \"Elephant\"; //Choose what kind of bear you want: Teddy or Unicorn (Example: let bearType = \"Teddyy\")I want to do elephant, though...\n",
    "\n",
    "if (bearType === \"Elephant\") { //Put the same bear type from above into this line\n",
    "    console.log(\"You picked a snuggly Elephant bear! (Wow, that exists? Interesting...)\");\n",
    "}"
   ]
  },
  {
   "cell_type": "markdown",
   "metadata": {},
   "source": [
    "### Hack 2: If-Else Statement\n",
    "Add a sound to the bear based on the type chosen."
   ]
  },
  {
   "cell_type": "code",
   "execution_count": 3,
   "metadata": {
    "vscode": {
     "languageId": "javascript"
    }
   },
   "outputs": [
    {
     "data": {
      "application/javascript": "let bearType = \"_____\"; //Put the same bear type as before.\n\nif (bearType ===\"Teddy\") {\n    console.log(\"Your Teddy snores...\");\n} else {\n    console.log(\"Your Unicorn neighs loud...\")\n}\n",
      "text/plain": [
       "<IPython.core.display.Javascript object>"
      ]
     },
     "metadata": {},
     "output_type": "display_data"
    }
   ],
   "source": [
    "%%js\n",
    "let bearType = \"Elephant\"; //Put the same bear type as before.\n",
    "\n",
    "if (bearType ===\"Teddy\") {\n",
    "    console.log(\"Your Teddy snores...\");//if the bearType is Teddy, then it snores\n",
    "} else {\n",
    "    console.log(\"Your Elephant makes a trumpeting elephant-y sound.\");//if it is an elephant, then it makes an elephant sound.\n",
    "}\n"
   ]
  },
  {
   "cell_type": "markdown",
   "metadata": {},
   "source": [
    "### Hack 3: Else-If Statement\n",
    "Choose the stuffing type using an If-Else-If statement"
   ]
  },
  {
   "cell_type": "code",
   "execution_count": 2,
   "metadata": {
    "vscode": {
     "languageId": "javascript"
    }
   },
   "outputs": [
    {
     "data": {
      "application/javascript": "let stuffingType = \"______\"; //Choose a stuffing: Fluffy, Firm, or Squishy\n\nif (stuffingType === \"Fluffy\") {\n    console.log(\"Your bear will be extra soft and fluffy!\");\n} else if (stuffingType === \"Firm\") {\n    console.log (\"Your bear will have a firm, sturdy feel.\");\n} else {\n    console.log(\"Your bear will be nice and squishy!\");\n}\n",
      "text/plain": [
       "<IPython.core.display.Javascript object>"
      ]
     },
     "metadata": {},
     "output_type": "display_data"
    }
   ],
   "source": [
    "%%js\n",
    "let stuffingType = \"Squishy\"; //Choose a stuffing: Fluffy, Firm, or Squishy\n",
    "\n",
    "if (stuffingType === \"Fluffy\") {\n",
    "    console.log(\"Your bear will be extra soft and fluffy!\");//if the stuffingType is Fluffy, then this will be printed out in the console\n",
    "} else if (stuffingType === \"Firm\") {\n",
    "    console.log (\"Your bear will have a firm, sturdy feel.\");//if it is firm, then this will be printed out in the console\n",
    "} else {//if the stuffing is not fluffy or firm, then it is assumed that it is squishy.\n",
    "    console.log(\"Your bear will be nice and squishy! Like a Squishmallow! Yaaay!!!\");//This is printed out in the console.\n",
    "}"
   ]
  },
  {
   "cell_type": "markdown",
   "metadata": {},
   "source": [
    "### Hack 4: Switch Statement\n",
    "Use a switch statement to pick a bear outfit"
   ]
  },
  {
   "cell_type": "code",
   "execution_count": 5,
   "metadata": {
    "vscode": {
     "languageId": "javascript"
    }
   },
   "outputs": [
    {
     "data": {
      "application/javascript": "let bearOutfit = \"_____\"; // Choose an outfit: \"Superhero\", \"Cheerleader\", \"Pirate\", \"Princess\"\n\nswitch (bearOutfit) {\n    case \"Superhero\":\n        console.log(\"Your bear is ready to save the day in a Superhero costume!\");\n        break;\n    case \"Cheerleader\":\n        console.log(\"Your bear will cheer with its Cheerleader outfit!\");\n        break;\n    case \"Pirate\":\n        console.log(\"Ahoy! Your bear is ready to sail in a Pirate costume!\");\n        break;\n    default:\n        console.log(\"Your bear is ready for a royal adventure in a Princess outfit!\");\n}\n",
      "text/plain": [
       "<IPython.core.display.Javascript object>"
      ]
     },
     "metadata": {},
     "output_type": "display_data"
    }
   ],
   "source": [
    "%%js\n",
    "let bearOutfit = \"Eevee\"; // Choose an outfit: \"Superhero\", \"Cheerleader\", \"Pirate\", \"Princess\" ORRR \"Eevee\"\n",
    "\n",
    "switch (bearOutfit) {\n",
    "    case \"Superhero\":\n",
    "        console.log(\"Your bear is ready to save the day in a Superhero costume!\");//if the bearOutfit is Superhero, then this is printed\n",
    "        break;\n",
    "    case \"Cheerleader\":\n",
    "        console.log(\"Your bear will cheer with its Cheerleader outfit!\");//if the bearOutfit is Cheerleader, then this is printed\n",
    "        break;\n",
    "    case \"Pirate\":\n",
    "        console.log(\"Ahoy! Your bear is ready to sail in a Pirate costume!\");//if the bearOutfit is Pirate, then this is printed\n",
    "        break;\n",
    "    case \"Eevee\":\n",
    "        console.log(\"Your bear/elephant is ready to jump into a Pokemon battle!\");\n",
    "        break;\n",
    "    default://if the outfit is not a superhero, cheerleader, pirate, or eevee, then it is assumed that it is a princess\n",
    "        console.log(\"Your bear is ready for a royal adventure in a Princess outfit!\");//this is printed out in the console\n",
    "}\n"
   ]
  },
  {
   "cell_type": "markdown",
   "metadata": {},
   "source": [
    "### Hack 5: Complete Build-A-Bear Experience\n",
    "Combine all conditionals to create new types of bears, stuffings, and outfits in a single code cell!"
   ]
  },
  {
   "cell_type": "code",
   "execution_count": 1,
   "metadata": {
    "vscode": {
     "languageId": "javascript"
    }
   },
   "outputs": [
    {
     "data": {
      "application/javascript": "let bearType = \"Ditto\"; //Make a type of bear! (I really hope you guys know what Pokemon is...)\nlet stuffingType = \"Squishy\"; //Choose a type of stuffing! Veerrryyy squishy...\nlet bearOutfit = \"Teddiursa\"; //Create your own outfit!\n\n// Step 1: Choose Me\nif (bearType === \"Elephant\") { //Choose a bear type\n    console.log(\"Yaaaayyy, an Elephant! That's my favorite animal! Oh, wait, I can't be biased, oh, uh, never mind...\"); //Create a console message for the specified bear type\n} else if (bearType === \"Giraffe\") {\n    console.log(\"Wow! Your bear has a really, really, long neck...\");\n} else {\n    console.log(\"Oh, wow, it's a Ditto! Wait, now what is it? Oh, wow, it keeps transforming!\");//Ditto transforms in Pokemon \n}\n\n//Repeat these steps. When finished, you should be able to choose your own type of bear, stuffing, and outfit within a single code cell. Be creative and have fun!!!\n// Step 2: Hear Me\nif (bearType === \"Elephant\") {\n    console.log(\"A loud trumpeting sound plays. Wow, that's kinda loud...\");\n} else if (bearType === \"Giraffe\"){\n    console.log(\"Wow, what a nice, melodious... uh... snorting sound?\");\n} else {\n    console.log(\"Hmm... Your bear/ditto is just saying \\\"Ditto, ditto, ditto!\\\" Interesting...\");\n}\n\n// Step 3: Stuff Me\nif (stuffingType === \"Squishy\") {\n    console.log(\"Your bear is very squishy! Very, very squishy...\");\n} else if (stuffingType === \"Slimey\") {\n    console.log(\"Huh, your bear is kinda slimey... Uh, interesting choice, but you do you!\");\n} else {\n    console.log(\"Wow, your bear is rock-hard! I'm not sure how that happened, but, uhm, enjoy!\");\n}\n\n// Step 4: Dress Me\nswitch (bearOutfit) {\n    case \"Ranch Dressing\":\n        console.log(\"Huh, you chose an interesting outfit... very, uh, unique?\");\n        break;\n    case \"Programmer\":\n        console.log(\"Oh, it seems that this kind of bear can only lurk in the shadows and spends all their time on their computer. Huh...\");\n        break;\n    case \"Mortensen\":\n        console.log(\"Your bear sometimes seems to get a bit angry... they also seem to want to say \\\"Code, code, code\\\" a lot...\");\n        break;\n    default:\n        console.log(\"Aww, what a cute Teddiursa! It's ready for a Pokemon Battle!\");\n}\n",
      "text/plain": [
       "<IPython.core.display.Javascript object>"
      ]
     },
     "metadata": {},
     "output_type": "display_data"
    }
   ],
   "source": [
    "%%js\n",
    "let bearType = \"Ditto\"; //Make a type of bear! (I really hope you guys know what Pokemon is...)\n",
    "let stuffingType = \"Squishy\"; //Choose a type of stuffing! Veerrryyy squishy...\n",
    "let bearOutfit = \"Teddiursa\"; //Create your own outfit!\n",
    "\n",
    "// Step 1: Choose Me\n",
    "if (bearType === \"Elephant\") { //Choose a bear type\n",
    "    console.log(\"Yaaaayyy, an Elephant! That's my favorite animal! Oh, wait, I can't be biased, oh, uh, never mind...\"); //Create a console message for the specified bear type\n",
    "} else if (bearType === \"Giraffe\") {\n",
    "    console.log(\"Wow! Your bear has a really, really, long neck...\");\n",
    "} else {\n",
    "    console.log(\"Oh, wow, it's a Ditto! Wait, now what is it? Oh, wow, it keeps transforming!\");//Ditto transforms in Pokemon \n",
    "}\n",
    "\n",
    "//Repeat these steps. When finished, you should be able to choose your own type of bear, stuffing, and outfit within a single code cell. Be creative and have fun!!!\n",
    "// Step 2: Hear Me\n",
    "if (bearType === \"Elephant\") {\n",
    "    console.log(\"A loud trumpeting sound plays. Wow, that's kinda loud...\");\n",
    "} else if (bearType === \"Giraffe\"){\n",
    "    console.log(\"Wow, what a nice, melodious... uh... snorting sound?\");\n",
    "} else {\n",
    "    console.log(\"Hmm... Your bear/ditto is just saying \\\"Ditto, ditto, ditto!\\\" Interesting...\");\n",
    "}\n",
    "\n",
    "// Step 3: Stuff Me\n",
    "if (stuffingType === \"Squishy\") {\n",
    "    console.log(\"Your bear is very squishy! Very, very squishy...\");\n",
    "} else if (stuffingType === \"Slimey\") {\n",
    "    console.log(\"Huh, your bear is kinda slimey... Uh, interesting choice, but you do you!\");\n",
    "} else {\n",
    "    console.log(\"Wow, your bear is rock-hard! I'm not sure how that happened, but, uhm, enjoy!\");\n",
    "}\n",
    "\n",
    "// Step 4: Dress Me\n",
    "switch (bearOutfit) {\n",
    "    case \"Ranch Dressing\":\n",
    "        console.log(\"Huh, you chose an interesting outfit... very, uh, unique?\");\n",
    "        break;\n",
    "    case \"Programmer\":\n",
    "        console.log(\"Oh, it seems that this kind of bear can only lurk in the shadows and spends all their time on their computer. Huh...\");\n",
    "        break;\n",
    "    case \"Mortensen\":\n",
    "        console.log(\"Your bear sometimes seems to get a bit angry... they also seem to want to say \\\"Code, code, code\\\" a lot...\");\n",
    "        break;\n",
    "    default:\n",
    "        console.log(\"Aww, what a cute Teddiursa! It's ready for a Pokemon Battle!\");\n",
    "}\n"
   ]
  }
 ],
 "metadata": {
  "kernelspec": {
   "display_name": "Python 3",
   "language": "python",
   "name": "python3"
  },
  "language_info": {
   "codemirror_mode": {
    "name": "ipython",
    "version": 3
   },
   "file_extension": ".py",
   "mimetype": "text/x-python",
   "name": "python",
   "nbconvert_exporter": "python",
   "pygments_lexer": "ipython3",
   "version": "3.12.3"
  }
 },
 "nbformat": 4,
 "nbformat_minor": 2
}
