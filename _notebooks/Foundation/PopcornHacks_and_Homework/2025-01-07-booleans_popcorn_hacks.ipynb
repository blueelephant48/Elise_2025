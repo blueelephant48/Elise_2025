{
 "cells": [
  {
   "cell_type": "raw",
   "metadata": {
    "vscode": {
     "languageId": "raw"
    }
   },
   "source": [
    "---\n",
    "layout: post\n",
    "title: Booleans Popcorn Hacks\n",
    "description:  My finished boolean popcorn hacks!\n",
    "type: issues \n",
    "comments: true\n",
    "---"
   ]
  },
  {
   "cell_type": "markdown",
   "metadata": {},
   "source": [
    "# Popcorn Hacks"
   ]
  },
  {
   "cell_type": "markdown",
   "metadata": {},
   "source": [
    "# Exercise 1"
   ]
  },
  {
   "cell_type": "markdown",
   "metadata": {},
   "source": [
    "Create a variable that holds a true or false value. Print a message that says \"This is true!\" if the value is true and \"This is false!\" if the value is false."
   ]
  },
  {
   "cell_type": "code",
   "execution_count": 6,
   "metadata": {
    "vscode": {
     "languageId": "javascript"
    }
   },
   "outputs": [
    {
     "data": {
      "application/javascript": "\nlet isSunny = true;  // Change this to false to test the other case\n\nif (isSunny) {\n    console.log(\"This is true! :D\");//prints that isSunny is true \n} else {\n    console.log(\"This is false...\")//prints that isSunny is false\n}\n",
      "text/plain": [
       "<IPython.core.display.Javascript object>"
      ]
     },
     "metadata": {},
     "output_type": "display_data"
    }
   ],
   "source": [
    "%%js \n",
    "\n",
    "let isSunny = true;  // Change this to false to test the other case\n",
    "\n",
    "if (isSunny) {\n",
    "    console.log(\"This is true! :D\");//prints that isSunny is true \n",
    "} else {\n",
    "    console.log(\"This is false...\")//prints that isSunny is false\n",
    "}"
   ]
  },
  {
   "cell_type": "markdown",
   "metadata": {},
   "source": [
    "# Exercise 2"
   ]
  },
  {
   "cell_type": "markdown",
   "metadata": {},
   "source": [
    "Write a program that checks if both conditions are true: the weather is nice (true) and it’s a weekend (true). Print \"Go outside!\" if both are true, and \"Stay inside!\" otherwise."
   ]
  },
  {
   "cell_type": "code",
   "execution_count": 7,
   "metadata": {
    "vscode": {
     "languageId": "javascript"
    }
   },
   "outputs": [
    {
     "data": {
      "application/javascript": "\nlet isWeekend = true;  // Change to false to test the other case\nlet isNiceWeather = true;  // Change to false to test the other case\n\nif (isWeekend && isNiceWeather) {\n    console.log(\"Go outside!\");// prints to go outside\n} else {\n    console.log(\"Stay inside!\");//tells to stay inside\n}\n",
      "text/plain": [
       "<IPython.core.display.Javascript object>"
      ]
     },
     "metadata": {},
     "output_type": "display_data"
    }
   ],
   "source": [
    "%%js \n",
    "\n",
    "let isWeekend = true;  // Change to false to test the other case\n",
    "let isNiceWeather = true;  // Change to false to test the other case\n",
    "\n",
    "if (isWeekend && isNiceWeather) {\n",
    "    console.log(\"Go outside!\");// prints to go outside\n",
    "} else {\n",
    "    console.log(\"Stay inside!\");//tells to stay inside\n",
    "}\n"
   ]
  },
  {
   "cell_type": "markdown",
   "metadata": {},
   "source": [
    "# Exercise 3"
   ]
  },
  {
   "cell_type": "markdown",
   "metadata": {},
   "source": [
    "Write a program that prints \"Time to go to the beach!\" if it's either sunny or the weekend. Use the OR (||) operator."
   ]
  },
  {
   "cell_type": "code",
   "execution_count": 8,
   "metadata": {
    "vscode": {
     "languageId": "javascript"
    }
   },
   "outputs": [
    {
     "data": {
      "application/javascript": "\nlet isSunny = true;  // Change to false to test the other case\nlet isWeekend = true;  // Change to true to test the other case\n\nif (isSunny || isWeekend) {\n    console.log(\"Time to go to the beach!\");//prints to go to the beach\n} else {\n    console.log(\"Don't go to the beach... :(\"); //tells you not to go to the beach\n}\n",
      "text/plain": [
       "<IPython.core.display.Javascript object>"
      ]
     },
     "metadata": {},
     "output_type": "display_data"
    }
   ],
   "source": [
    "%%js \n",
    "\n",
    "let isSunny = true;  // Change to false to test the other case\n",
    "let isWeekend = true;  // Change to true to test the other case\n",
    "\n",
    "if (isSunny || isWeekend) {\n",
    "    console.log(\"Time to go to the beach!\");//prints to go to the beach\n",
    "} else {\n",
    "    console.log(\"Don't go to the beach... :(\"); //tells you not to go to the beach\n",
    "}\n"
   ]
  },
  {
   "cell_type": "markdown",
   "metadata": {},
   "source": [
    "# Exercise 4"
   ]
  },
  {
   "cell_type": "markdown",
   "metadata": {},
   "source": [
    "Write a program that prints \"Not sunny today\" if isSunny is false, and \"It's sunny!\" if isSunny is true. Use the NOT (!) operator to invert the value of isSunny."
   ]
  },
  {
   "cell_type": "code",
   "execution_count": 9,
   "metadata": {
    "vscode": {
     "languageId": "javascript"
    }
   },
   "outputs": [
    {
     "data": {
      "application/javascript": "\nlet isSunny = false;  // Change to true to test the other case\n\nif (!isSunny) {\n    console.log(\"Not sunny today\");//prints that it's not sunny\n} else {\n    console.log(\"It's sunny!\");//prints that it's sunny\n}\n",
      "text/plain": [
       "<IPython.core.display.Javascript object>"
      ]
     },
     "metadata": {},
     "output_type": "display_data"
    }
   ],
   "source": [
    "%%js \n",
    "\n",
    "let isSunny = false;  // Change to true to test the other case\n",
    "\n",
    "if (!isSunny) {\n",
    "    console.log(\"Not sunny today\");//prints that it's not sunny\n",
    "} else {\n",
    "    console.log(\"It's sunny!\");//prints that it's sunny\n",
    "}"
   ]
  },
  {
   "cell_type": "markdown",
   "metadata": {},
   "source": [
    "# Exercise 5"
   ]
  },
  {
   "cell_type": "markdown",
   "metadata": {},
   "source": [
    "Create a program that checks if a user is both logged in (true) and has admin rights (true). Print \"Access granted!\" if both are true, and \"Access denied!\" if either is false."
   ]
  },
  {
   "cell_type": "code",
   "execution_count": 10,
   "metadata": {
    "vscode": {
     "languageId": "javascript"
    }
   },
   "outputs": [
    {
     "data": {
      "application/javascript": "\nlet isLoggedIn = true;  // Change to false to test the other case\nlet isAdmin = true;     // Change to false to test the other case\n\nif (isLoggedIn && isAdmin) {\n    console.log(\"Access granted!\");//prints that access is granted\n} else {\n    console.log(\"Access denied!\")//prints that access is denied\n}\n",
      "text/plain": [
       "<IPython.core.display.Javascript object>"
      ]
     },
     "metadata": {},
     "output_type": "display_data"
    }
   ],
   "source": [
    "%%js \n",
    "\n",
    "let isLoggedIn = true;  // Change to false to test the other case\n",
    "let isAdmin = true;     // Change to false to test the other case\n",
    "\n",
    "if (isLoggedIn && isAdmin) {\n",
    "    console.log(\"Access granted!\");//prints that access is granted\n",
    "} else {\n",
    "    console.log(\"Access denied!\")//prints that access is denied\n",
    "}"
   ]
  },
  {
   "cell_type": "markdown",
   "metadata": {},
   "source": [
    "# Exercise 6"
   ]
  },
  {
   "cell_type": "markdown",
   "metadata": {},
   "source": [
    "Use a ternary operator to decide whether a user is allowed access based on their age. If the age is 18 or above, print \"You are allowed access.\" If below 18, print \"Sorry, you are too young.\""
   ]
  },
  {
   "cell_type": "code",
   "execution_count": 11,
   "metadata": {
    "vscode": {
     "languageId": "javascript"
    }
   },
   "outputs": [
    {
     "data": {
      "application/javascript": "\nlet age = 16;  // Change this value to test different cases\n\nlet accessMessage = age >= 18 ? true == \"You are allowed access.\" : \"Sorry, you are too young.\";//checks if they are above 18 years old\n\nconsole.log(accessMessage);  // Will print based on age\n",
      "text/plain": [
       "<IPython.core.display.Javascript object>"
      ]
     },
     "metadata": {},
     "output_type": "display_data"
    }
   ],
   "source": [
    "%%js\n",
    "\n",
    "let age = 16;  // Change this value to test different cases\n",
    "\n",
    "let accessMessage = age >= 18 ? true == \"You are allowed access.\" : \"Sorry, you are too young.\";//checks if they are above 18 years old\n",
    "\n",
    "console.log(accessMessage);  // Will print based on age\n"
   ]
  },
  {
   "cell_type": "markdown",
   "metadata": {},
   "source": [
    "# Exercise 7"
   ]
  },
  {
   "cell_type": "markdown",
   "metadata": {},
   "source": [
    "Write a program that checks if a user is both a VIP (true) and has a VIP ticket (true). If both conditions are true, print \"VIP Access granted!\" Otherwise, print \"Access denied!\""
   ]
  },
  {
   "cell_type": "code",
   "execution_count": 12,
   "metadata": {
    "vscode": {
     "languageId": "javascript"
    }
   },
   "outputs": [
    {
     "data": {
      "application/javascript": "\nlet isVIP = true;          // Change to false to test the other case\nlet hasVIPticket = false;  // Change to true to test the other case\n\nif (isVIP && hasVIPticket) {\n    console.log(\"VIP Access granted!\");//grants access\n} else {\n    console.log(\"Access denied!\");//prints that access is denied\n}\n",
      "text/plain": [
       "<IPython.core.display.Javascript object>"
      ]
     },
     "metadata": {},
     "output_type": "display_data"
    }
   ],
   "source": [
    "%%js \n",
    "\n",
    "let isVIP = true;          // Change to false to test the other case\n",
    "let hasVIPticket = false;  // Change to true to test the other case\n",
    "\n",
    "if (isVIP && hasVIPticket) {\n",
    "    console.log(\"VIP Access granted!\");//grants access\n",
    "} else {\n",
    "    console.log(\"Access denied!\");//prints that access is denied\n",
    "}"
   ]
  }
 ],
 "metadata": {
  "kernelspec": {
   "display_name": "Python 3",
   "language": "python",
   "name": "python3"
  },
  "language_info": {
   "codemirror_mode": {
    "name": "ipython",
    "version": 3
   },
   "file_extension": ".py",
   "mimetype": "text/x-python",
   "name": "python",
   "nbconvert_exporter": "python",
   "pygments_lexer": "ipython3",
   "version": "3.12.3"
  }
 },
 "nbformat": 4,
 "nbformat_minor": 2
}
