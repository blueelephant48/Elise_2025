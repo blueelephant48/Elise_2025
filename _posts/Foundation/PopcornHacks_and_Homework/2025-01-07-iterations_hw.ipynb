{
 "cells": [
  {
   "cell_type": "raw",
   "metadata": {
    "vscode": {
     "languageId": "raw"
    }
   },
   "source": [
    "---\n",
    "comments: True\n",
    "layout: post\n",
    "title: Iteration Homework\n",
    "description: Iterations HW\n",
    "permalink: /csse/javascript/fundamentals/iteration/hw\n",
    "categories: [CSSE JavaScript Fundamentals]\n",
    "author: Andrew Ge, Ishan Shrivastava, Pratheep Natarajan, and Ruhaan Bansal\n",
    "---  "
   ]
  },
  {
   "cell_type": "markdown",
   "metadata": {},
   "source": [
    "### Exercise 1: Multiplication Table\n",
    "##### Write a JavaScript program to print the multiplication table for a given number."
   ]
  },
  {
   "cell_type": "markdown",
   "metadata": {},
   "source": [
    "##### Example:\n",
    "##### Input: 3\n",
    "##### Output:\n",
    "##### 3 x 1 = 3\n",
    "##### 3 x 2 = 6\n",
    "##### ...\n",
    "##### 3 x 10 = 30"
   ]
  },
  {
   "cell_type": "code",
   "execution_count": 4,
   "metadata": {
    "vscode": {
     "languageId": "javascript"
    }
   },
   "outputs": [
    {
     "data": {
      "application/javascript": "let number = 10;\nlet result;\nfor (let i=1; i<=10; i++){\n    result = 10*i;\n    console.log(`${number} x ${i} = ${result}`);\n}\n",
      "text/plain": [
       "<IPython.core.display.Javascript object>"
      ]
     },
     "metadata": {},
     "output_type": "display_data"
    }
   ],
   "source": [
    "%%js\n",
    "let number = 10;\n",
    "let result;\n",
    "for (let i=1; i<=10; i++){\n",
    "    result = 10*i;\n",
    "    console.log(`${number} x ${i} = ${result}`);\n",
    "}"
   ]
  },
  {
   "cell_type": "markdown",
   "metadata": {},
   "source": [
    "### Exercise 2: Nested Loops\n",
    "##### Write a JavaScript program using nested loops to generate the following pattern:"
   ]
  },
  {
   "cell_type": "markdown",
   "metadata": {},
   "source": [
    "##### Output:\n",
    "##### 0\n",
    "##### 00\n",
    "##### 000\n",
    "##### 0000\n",
    "##### 00000"
   ]
  },
  {
   "cell_type": "code",
   "execution_count": 6,
   "metadata": {
    "vscode": {
     "languageId": "javascript"
    }
   },
   "outputs": [
    {
     "data": {
      "application/javascript": "\nlet x=5;\nfor (let a=0; a < x; a++) {\n    let printAmount = \"0\";\n    for (let i=0; i<a; i++ ){\n        printAmount += \"0\";\n    }\n    console.log(printAmount);\n}\n",
      "text/plain": [
       "<IPython.core.display.Javascript object>"
      ]
     },
     "metadata": {},
     "output_type": "display_data"
    }
   ],
   "source": [
    "%%js\n",
    "\n",
    "let x=5;\n",
    "for (let a=0; a < x; a++) {\n",
    "    let printAmount = \"0\";\n",
    "        for (let i=0; i<a; i++ ){\n",
    "            printAmount += \"0\";\n",
    "        }\n",
    "    console.log(printAmount);\n",
    "}\n"
   ]
  },
  {
   "cell_type": "markdown",
   "metadata": {},
   "source": [
    "### Challenge Exercise: Prime Numbers\n",
    "##### Write a JavaScript program to print all prime numbers between 1 and 50."
   ]
  },
  {
   "cell_type": "code",
   "execution_count": 34,
   "metadata": {
    "vscode": {
     "languageId": "javascript"
    }
   },
   "outputs": [
    {
     "data": {
      "application/javascript": "\nlet x = 50;\n\nif (x <= 1){\n    console.log(\"No prime numbers found... :(\");\n} else {\n    const primeNumbers = [];\n    for(let i = 2; i <= x; i++){\n        let isPrime = true;\n        for(let a = 2; a <= Math.sqrt(i); a++){\n            if (i % a === 0){\n                isPrime = false;\n            }\n        }\n        if (isPrime){\n            primeNumbers.push(i);\n        }  \n    }\n    console.log(primeNumbers);\n}\n",
      "text/plain": [
       "<IPython.core.display.Javascript object>"
      ]
     },
     "metadata": {},
     "output_type": "display_data"
    }
   ],
   "source": [
    "%%js\n",
    "\n",
    "let x = 50;\n",
    "\n",
    "if (x <= 1){\n",
    "    console.log(\"No prime numbers found... :(\");\n",
    "} else {\n",
    "    const primeNumbers = [];\n",
    "    for(let i = 2; i <= x; i++){\n",
    "        let isPrime = true;\n",
    "        for(let a = 2; a <= Math.sqrt(i); a++){\n",
    "            if (i % a === 0){\n",
    "                isPrime = false;\n",
    "            }\n",
    "        }\n",
    "        if (isPrime){\n",
    "            primeNumbers.push(i);\n",
    "        }  \n",
    "    }\n",
    "    console.log(primeNumbers);\n",
    "}\n"
   ]
  },
  {
   "cell_type": "markdown",
   "metadata": {},
   "source": [
    "# End of Homework"
   ]
  }
 ],
 "metadata": {
  "kernelspec": {
   "display_name": "Python 3",
   "language": "python",
   "name": "python3"
  },
  "language_info": {
   "codemirror_mode": {
    "name": "ipython",
    "version": 3
   },
   "file_extension": ".py",
   "mimetype": "text/x-python",
   "name": "python",
   "nbconvert_exporter": "python",
   "pygments_lexer": "ipython3",
   "version": "3.12.3"
  }
 },
 "nbformat": 4,
 "nbformat_minor": 2
}
