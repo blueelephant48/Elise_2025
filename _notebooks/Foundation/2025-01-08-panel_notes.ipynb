{
 "cells": [
  {
   "cell_type": "code",
   "execution_count": null,
   "metadata": {
    "vscode": {
     "languageId": "plaintext"
    }
   },
   "outputs": [],
   "source": [
    "---\n",
    "layout: post\n",
    "title: Computer Science Panel Notes\n",
    "description:  Notes that I took on the computer science panel!\n",
    "type: issues \n",
    "comments: true\n",
    "---"
   ]
  },
  {
   "cell_type": "markdown",
   "metadata": {
    "vscode": {
     "languageId": "html"
    }
   },
   "source": [
    "![Image](https://github.com/user-attachments/assets/1c85407c-765c-4c0e-be48-f4ee01b0ad7d)"
   ]
  },
  {
   "cell_type": "markdown",
   "metadata": {},
   "source": [
    "### Panel Notes\n",
    "\n",
    "- Do what you are good at and what you like doing\n",
    "- Make sure to actually understand your code! That is the most important part, not just if your code works\n",
    "- Be direct, clear, and concise during interviews.\n",
    "- Include your achievements and what you have done. Your impact!\n",
    "- Flowcharts are important for communicating your ideas\n",
    "  -  draw.io\n",
    "- Github is important! Learn more about it and how to use it!\n",
    "- Take suggestions, information, and criticism with an open mind\n",
    "- Remember to use comments! Get in the habit of doing that!\n",
    "- DON’T PROCRASTINATE YOUR COLLEGE APPLICATION ESSAYS!\n",
    "- Sometimes it’s best to go to a school that isn’t the highest or the best so that your credits transfer over and you don’t have to do them again and can graduate faster\n",
    "- Combining technical stuff with other stuff, like social or ethical stuff can be more interesting and appealing to some places\n",
    "- Make friends and connections! They can give you referrals\n",
    "- Look at classes that universities/colleges offer and talk(in an interview or in a paper) about which ones you want to do\n",
    "- Sometimes it’s good to go to community colleges to make more classes count and get credits (Helps get easier classes out of the way!)\n",
    "- Jobs do not care about your college gpa\n",
    "  - They look more at your projects that you have done\n",
    "- Embrace the “think like a coder” mindset!\n",
    "- Making websites are a good skill to have\n",
    "- Someone did research at UCSD by emailing a bunch of professors. Maybe you can try doing that!\n",
    "- Do what you are passionate about! As long as you are truly passionate about something, then you will be fine!\n",
    "- Just get past the starting point, and it will be easier\n",
    "- After you write a lot of essays, you can just take them apart and make them longer or shorter\n",
    "- Leetcode can be useful\n",
    "- For internships, look at company websites and linkedin (maybe indeed)\n",
    "  - Go for smaller places/startups\n",
    "  - Messaging on linkedin is helpful\n",
    "  - A website/portfolio for yourself can be useful! \n",
    "- For the first internship, it can be anything. Just do it to get something on your resume\n"
   ]
  }
 ],
 "metadata": {
  "language_info": {
   "name": "python"
  }
 },
 "nbformat": 4,
 "nbformat_minor": 2
}
