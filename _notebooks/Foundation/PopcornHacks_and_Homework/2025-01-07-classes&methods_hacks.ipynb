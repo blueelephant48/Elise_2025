{
 "cells": [
  {
   "cell_type": "raw",
   "metadata": {
    "vscode": {
     "languageId": "raw"
    }
   },
   "source": [
    "---\n",
    "layout: post\n",
    "title: Classes and Methods Popcorn Hacks\n",
    "description:  Finished Classes Popcorn Hacks!\n",
    "type: issues \n",
    "comments: true\n",
    "---"
   ]
  },
  {
   "cell_type": "markdown",
   "metadata": {},
   "source": [
    "# JavaScript Classes and Methods - Interactive Popcorns \n",
    "In this notebook, you will learn about classes and methods in JavaScript. During the lesson, use these to enhance your understanding of clases and methods\n",
    "### \n",
    "- **Objectivs**: Do something - Change Later\n",
    "- **How**:\n",
    "\n"
   ]
  },
  {
   "cell_type": "markdown",
   "metadata": {
    "vscode": {
     "languageId": "raw"
    }
   },
   "source": [
    "Exercise 1: Create a Rectangle (aka a fridge)\n",
    "_______________________________________________________________________\n",
    "Exercise 2: Change Dimensions\n",
    "Use the Rectangle to:\n",
    "Part a.) Create a rectangle with a width of 20 and height of 40.\n",
    "Part b.) Change the dimensions to make the area 200 units².\n",
    "_______________________________________________________________________\n",
    "Exercise 3: Experiment with Areas\n",
    "a.) Find all pairs of dimensions that give an area of 48 units².\n",
    "_______________________________________________________________________\n",
    "Exercise 4: Rectangle Class (Missing Methods)\n",
    "class Rectangle {\n",
    "    constructor(width, height) {\n",
    "        this.width = width;\n",
    "        this.height = height;\n",
    "    }\n",
    "    // **Code missing**: Add method to calculate the perimeter of the rectangle\n",
    "    getPerimeter() {\n",
    "        // Add logic here to return the perimeter\n",
    "    }\n",
    "}\n",
    "const rect = new Rectangle(10, 5);\n",
    "console.log(rect.getPerimeter()); // Output should be 30\n",
    "_______________________________________________________________________\n",
    "Exercise 5: Square Class (Missing Method)\n",
    "class Square {\n",
    "    constructor(sideLength) {\n",
    "        this.sideLength = sideLength;\n",
    "    }\n",
    "    // **Code missing**: Add method to calculate the diagonal of the square\n",
    "    getDiagonal() {\n",
    "        // Add logic here to calculate and return the diagonal\n",
    "    }\n",
    "}\n",
    "const square = new Square(5);\n",
    "console.log(square.getDiagonal()); // Output should be 7.07 (sideLength * √2)\n",
    "_______________________________________________________________________"
   ]
  },
  {
   "cell_type": "code",
   "execution_count": 6,
   "metadata": {
    "vscode": {
     "languageId": "javascript"
    }
   },
   "outputs": [
    {
     "data": {
      "application/javascript": "\nclass Rectangle{\n    constructor(width, height){\n        this.width = width;\n        this.height = height;\n    }\n    calcArea(){\n        return this.width * this.height;\n    }\n    getPerimeter(){\n        return (this.width + this.height) * 2;\n    }\n}\n\nconst rectangle = new Rectangle(20, 40);\nrectangle.height = 10;\nconsole.log(rectangle.calcArea());\n\nconst fortyEight1 = new Rectangle(1, 48);\nconst fortyEight2 = new Rectangle(2, 24);\nconst fortyEight3 = new Rectangle(3, 16);\nconst fortyEight4 = new Rectangle(4, 12);\nconst fortyEight5 = new Rectangle(6, 8);\n\nconst rect = new Rectangle(5, 10);\nconsole.log(rect.getPerimeter());\n\nclass Square{\n    constructor(sideLength){\n        this.sideLength = sideLength;\n    }\n    getDiagonal(){\n        return (this.sideLength*(Math.sqrt(2)));\n    }\n}\n\nconst square = new Square(5);\nconsole.log(square.getDiagonal());\nconsole.log(Math.sqrt(2)*2);\n",
      "text/plain": [
       "<IPython.core.display.Javascript object>"
      ]
     },
     "metadata": {},
     "output_type": "display_data"
    }
   ],
   "source": [
    "%%js\n",
    "\n",
    "class Rectangle{\n",
    "    constructor(width, height){\n",
    "        this.width = width;\n",
    "        this.height = height;\n",
    "    }\n",
    "    calcArea(){\n",
    "        return this.width * this.height;\n",
    "    }\n",
    "    getPerimeter(){\n",
    "        return (this.width + this.height) * 2;\n",
    "    }\n",
    "}\n",
    "\n",
    "const rectangle = new Rectangle(20, 40);\n",
    "rectangle.height = 10;\n",
    "console.log(rectangle.calcArea());\n",
    "\n",
    "const fortyEight1 = new Rectangle(1, 48);\n",
    "const fortyEight2 = new Rectangle(2, 24);\n",
    "const fortyEight3 = new Rectangle(3, 16);\n",
    "const fortyEight4 = new Rectangle(4, 12);\n",
    "const fortyEight5 = new Rectangle(6, 8);\n",
    "\n",
    "const rect = new Rectangle(5, 10);\n",
    "console.log(rect.getPerimeter());\n",
    "\n",
    "class Square{\n",
    "    constructor(sideLength){\n",
    "        this.sideLength = sideLength;\n",
    "    }\n",
    "    getDiagonal(){\n",
    "        return (this.sideLength*(Math.sqrt(2)));\n",
    "    }\n",
    "}\n",
    "\n",
    "const square = new Square(5);\n",
    "console.log(square.getDiagonal());"
   ]
  }
 ],
 "metadata": {
  "kernelspec": {
   "display_name": "Python 3",
   "language": "python",
   "name": "python3"
  },
  "language_info": {
   "codemirror_mode": {
    "name": "ipython",
    "version": 3
   },
   "file_extension": ".py",
   "mimetype": "text/x-python",
   "name": "python",
   "nbconvert_exporter": "python",
   "pygments_lexer": "ipython3",
   "version": "3.12.3"
  }
 },
 "nbformat": 4,
 "nbformat_minor": 2
}
