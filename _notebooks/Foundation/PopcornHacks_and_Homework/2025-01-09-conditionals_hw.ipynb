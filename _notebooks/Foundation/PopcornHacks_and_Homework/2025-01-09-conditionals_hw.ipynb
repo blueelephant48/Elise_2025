{
 "cells": [
  {
   "cell_type": "code",
   "execution_count": null,
   "metadata": {
    "vscode": {
     "languageId": "html"
    }
   },
   "outputs": [],
   "source": [
    "---\n",
    "layout: post\n",
    "title: Conditionals Homework\n",
    "description:  Finished conditionals homework!\n",
    "type: issues \n",
    "comments: true\n",
    "---"
   ]
  },
  {
   "cell_type": "markdown",
   "metadata": {},
   "source": [
    "\n",
    "## Homeworks  \n",
    "\n",
    "\n",
    "### Part 1:\n",
    " Choose one from the three options to make a conditonal statement and if help is needed, use the Format at the bottom of the page.\n",
    "\n",
    "#### Option 1: Grade Checker \n",
    "Example for the grade checker:\n",
    "\n",
    "\"F\" if the grade is below 60.\n",
    "\"D\" if the grade is between 60 and 69.\n",
    "\"C\" if the grade is between 70 and 79.\n",
    "\"B\" if the grade is between 80 and 89.\n",
    "\"A\" if the grade is 90 or above.\n",
    "\n",
    "#### Option 2: Weather app\n",
    "Example for a weather app:\n",
    "\n",
    "If the weather is sunny, print: \"It's a great day to go outside!\"\n",
    "If the weather is rainy, print: \"Don't forget your umbrella!\"\n",
    "If the weather is snowy, print: \"Stay warm and safe!\"\n",
    "\n",
    "#### Option 3: Character Health Status\n",
    "Example for a character health status:\n",
    "\n",
    "If the health is 0, print: \"Your character is dead.\"\n",
    "If the health is between 1 and 25, print: \"Critical condition! Find a health pack!\"\n",
    "If the health is between 26 and 75, print: \"Your character is wounded. Be cautious.\"\n",
    "If the health is above 75, print: \"Your character is healthy and ready for action!\"\n",
    "\n",
    "### Part 2:\n",
    " Make another conditional statement with your idea.\n",
    "\n",
    " Make any If-Then, If, or Then-If statements with different ideas.\n",
    "\n",
    "\n",
    "##### Format: "
   ]
  },
  {
   "cell_type": "code",
   "execution_count": 2,
   "metadata": {
    "vscode": {
     "languageId": "javascript"
    }
   },
   "outputs": [
    {
     "data": {
      "application/javascript": "let weather = \"raining cats and dogs\"; // Change this to your input or value\nlet location = \"San Diego\"\n\nif (weather === \"snow\" && location === \"San Diego\") {\n    console.log(\"Wait, how is it snowing??? This should'nt be possible! Why? How???\");\n} else if (weather === \"raining cats and dogs\") {\n    console.log(\"Ah, what a nice day... wait, why are cats and dogs falling out of the sky?\");\n} else {\n    console.log(\"Just an average day with average weather... probably...\");\n}\n",
      "text/plain": [
       "<IPython.core.display.Javascript object>"
      ]
     },
     "metadata": {},
     "output_type": "display_data"
    }
   ],
   "source": [
    "%%js\n",
    "let weather = \"raining cats and dogs\"; // Change this to your input or value\n",
    "let location = \"San Diego\"\n",
    "\n",
    "if (weather === \"snow\" && location === \"San Diego\") {\n",
    "    console.log(\"Wait, how is it snowing??? This should'nt be possible! Why? How???\");\n",
    "} else if (weather === \"raining cats and dogs\") {\n",
    "    console.log(\"Ah, what a nice day... wait, why are cats and dogs falling out of the sky?\");\n",
    "} else {\n",
    "    console.log(\"Just an average day with average weather... probably...\");\n",
    "}"
   ]
  },
  {
   "cell_type": "markdown",
   "metadata": {
    "vscode": {
     "languageId": "raw"
    }
   },
   "source": [
    "##### After testing any of the options, revise it and make another one from the options.\n"
   ]
  },
  {
   "cell_type": "code",
   "execution_count": 4,
   "metadata": {
    "vscode": {
     "languageId": "javascript"
    }
   },
   "outputs": [
    {
     "data": {
      "application/javascript": "let pokemon = \"Ditto\";\nlet hp = 100;\n\nif (hp === 100){\n    console.log(`Yay! Your ${pokemon} is at full health!`);\n} else if (hp >= 50){\n    console.log(`Your ${pokemon} doing pretty okay. It's not in any imminent danger.`);\n} else if (hp >10) {\n    console.log(`Your ${pokemon} might be in danger soon... be careful!`);\n} else {\n    console.log(`Wuh-oh, your ${pokemon} is close to fainting... you might want to switch it out.`)\n}\n",
      "text/plain": [
       "<IPython.core.display.Javascript object>"
      ]
     },
     "metadata": {},
     "output_type": "display_data"
    }
   ],
   "source": [
    "%%js\n",
    "let pokemon = \"Ditto\";\n",
    "let hp = 100;\n",
    "\n",
    "if (hp === 100){\n",
    "    console.log(`Yay! Your ${pokemon} is at full health!`);\n",
    "} else if (hp >= 50){\n",
    "    console.log(`Your ${pokemon} doing pretty okay. It's not in any imminent danger.`);\n",
    "} else if (hp >10) {\n",
    "    console.log(`Your ${pokemon} might be in danger soon... be careful!`);\n",
    "} else {\n",
    "    console.log(`Wuh-oh, your ${pokemon} is close to fainting... you might want to switch it out.`)\n",
    "}"
   ]
  }
 ],
 "metadata": {
  "kernelspec": {
   "display_name": "Python 3",
   "language": "python",
   "name": "python3"
  },
  "language_info": {
   "codemirror_mode": {
    "name": "ipython",
    "version": 3
   },
   "file_extension": ".py",
   "mimetype": "text/x-python",
   "name": "python",
   "nbconvert_exporter": "python",
   "pygments_lexer": "ipython3",
   "version": "3.12.3"
  }
 },
 "nbformat": 4,
 "nbformat_minor": 2
}
