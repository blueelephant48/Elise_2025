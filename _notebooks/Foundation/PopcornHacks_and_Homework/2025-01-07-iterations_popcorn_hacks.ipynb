{
 "cells": [
  {
   "cell_type": "raw",
   "metadata": {
    "vscode": {
     "languageId": "raw"
    }
   },
   "source": [
    "---\n",
    "layout: post\n",
    "title: Iterations Popcorn Hacks\n",
    "description:  My finished iterations popcorn hacks!\n",
    "type: issues \n",
    "comments: true\n",
    "---"
   ]
  },
  {
   "cell_type": "markdown",
   "metadata": {
    "vscode": {
     "languageId": "plaintext"
    }
   },
   "source": [
    "# Popcorn Hacks on Iterations in JavaScript"
   ]
  },
  {
   "cell_type": "markdown",
   "metadata": {},
   "source": [
    "##### Instructions:\n",
    "##### Complete the exercises below in JavaScript.\n",
    "##### You can run and test your code in a JavaScript environment."
   ]
  },
  {
   "cell_type": "markdown",
   "metadata": {},
   "source": [
    "### Exercise 1: Counting with a For Loop\n",
    "##### Write a JavaScript for loop that prints all numbers from 1 to 10."
   ]
  },
  {
   "cell_type": "markdown",
   "metadata": {},
   "source": [
    "##### Example:\n",
    "##### Output:\n",
    "##### 1\n",
    "##### 2\n",
    "##### 3\n",
    "##### ...\n",
    "##### 9 \n",
    "##### 10 "
   ]
  },
  {
   "cell_type": "code",
   "execution_count": 4,
   "metadata": {
    "vscode": {
     "languageId": "javascript"
    }
   },
   "outputs": [
    {
     "data": {
      "application/javascript": "let a=1;\nfor (let i=0; i<10; i++){\n    console.log(i);\n    a+=1;\n}\n",
      "text/plain": [
       "<IPython.core.display.Javascript object>"
      ]
     },
     "metadata": {},
     "output_type": "display_data"
    }
   ],
   "source": [
    "%%js\n",
    "let a=1;\n",
    "for (let i=0; i<10; i++){\n",
    "    console.log(a);\n",
    "    a+=1;\n",
    "}"
   ]
  },
  {
   "cell_type": "markdown",
   "metadata": {},
   "source": [
    "### Exercise 2: Sum of Numbers\n",
    "##### Write a for loop in JavaScript to calculate the sum of all numbers from 1 to n using a loop."
   ]
  },
  {
   "cell_type": "markdown",
   "metadata": {},
   "source": [
    "##### Example:\n",
    "##### Input: 5\n",
    "##### Output: 15 (because 1 + 2 + 3 + 4 + 5 = 15)\n"
   ]
  },
  {
   "cell_type": "code",
   "execution_count": null,
   "metadata": {
    "vscode": {
     "languageId": "javascript"
    }
   },
   "outputs": [],
   "source": [
    "%%js\n",
    "let m=10;\n",
    "let a=m;\n",
    "for (let n=m; n>1; n--){\n",
    "    m-=1;\n",
    "    a= a+m;\n",
    "}\n",
    "console.log(a);"
   ]
  },
  {
   "cell_type": "markdown",
   "metadata": {},
   "source": [
    "### Exercise 3: Looping through Arrays\n",
    "##### Write a JavaScript program to iterate through an array of names and print each name."
   ]
  },
  {
   "cell_type": "code",
   "execution_count": 20,
   "metadata": {
    "vscode": {
     "languageId": "javascript"
    }
   },
   "outputs": [
    {
     "data": {
      "application/javascript": "const names = ['Ditto', 'Vaporeon', 'Articuno', 'Snom'];\n\nfor (let name of names){\n    console.log(name);\n}\n",
      "text/plain": [
       "<IPython.core.display.Javascript object>"
      ]
     },
     "metadata": {},
     "output_type": "display_data"
    }
   ],
   "source": [
    "%%js\n",
    "const names = ['Ditto', 'Vaporeon', 'Articuno', 'Snom'];\n",
    "\n",
    "for (let name of names){\n",
    "    console.log(name);\n",
    "}\n"
   ]
  }
 ],
 "metadata": {
  "kernelspec": {
   "display_name": "Python 3",
   "language": "python",
   "name": "python3"
  },
  "language_info": {
   "codemirror_mode": {
    "name": "ipython",
    "version": 3
   },
   "file_extension": ".py",
   "mimetype": "text/x-python",
   "name": "python",
   "nbconvert_exporter": "python",
   "pygments_lexer": "ipython3",
   "version": "3.12.3"
  }
 },
 "nbformat": 4,
 "nbformat_minor": 2
}
