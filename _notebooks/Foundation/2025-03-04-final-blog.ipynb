{
 "cells": [
  {
   "cell_type": "raw",
   "metadata": {
    "vscode": {
     "languageId": "raw"
    }
   },
   "source": [
    "---\n",
    "layout: post\n",
    "title: Final blog\n",
    "description:  Final blog!\n",
    "type: issues \n",
    "comments: true\n",
    "---"
   ]
  },
  {
   "cell_type": "markdown",
   "metadata": {},
   "source": [
    "### Part 1\n",
    "\n",
    "Over the past 12 weeks, I have done many things. These include: \n",
    "\n",
    "- Learning how to make my blog and important basics of coding.\n",
    "    At first, I didn’t know how to use Github and was having trouble with the tools, but I was able to figure them out and get them to work. The lessons from others have also enhanced my experience and broadened my understanding of coding in JavaScript."
   ]
  },
  {
   "cell_type": "markdown",
   "metadata": {},
   "source": [
    "![Image](https://github.com/user-attachments/assets/67348d99-7dae-4c0c-96c5-240f61837ad6)"
   ]
  },
  {
   "cell_type": "markdown",
   "metadata": {},
   "source": [
    "- I learned how to make and change parts of a simple game to make it my own.\n",
    "    "
   ]
  }
 ],
 "metadata": {
  "language_info": {
   "name": "python"
  }
 },
 "nbformat": 4,
 "nbformat_minor": 2
}
