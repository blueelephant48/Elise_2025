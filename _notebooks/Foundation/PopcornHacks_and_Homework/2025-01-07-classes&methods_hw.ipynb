{
 "cells": [
  {
   "cell_type": "raw",
   "metadata": {
    "vscode": {
     "languageId": "raw"
    }
   },
   "source": [
    "---\n",
    "layout: post\n",
    "title: Classes and Methods Homework\n",
    "description:  Finished homework for classes and methods lessons!\n",
    "type: issues \n",
    "comments: true\n",
    "---"
   ]
  },
  {
   "cell_type": "markdown",
   "metadata": {},
   "source": [
    "## Homework "
   ]
  },
  {
   "cell_type": "markdown",
   "metadata": {},
   "source": [
    "# JavaScript Classes and Methods - Interactive Homework\n",
    "In this notebook, you will learn about classes and methods in JavaScript. After the lesson, complete the tasks by editing the code cells.\n",
    "\n",
    "### What are Classes and Methods?\n",
    "- **Class**: A blueprint for creating objects with properties and methods.\n",
    "- **Method**: A function inside a class that defines an object's behavior.\n",
    "\n"
   ]
  },
  {
   "cell_type": "code",
   "execution_count": null,
   "metadata": {
    "vscode": {
     "languageId": "javascript"
    }
   },
   "outputs": [
    {
     "data": {
      "application/javascript": "// Fridge Mini-Game: Enhanced with scores and quality feedback\n//place class + constructor here\nclass Fridge {\n  constructor() {\n    // Array of items in the fridge with their scores\n    this.fridgeItems = [ //Write in ten items found in a fridge and assign them a value of 1-10 (values can repeat)\n      {name: \"Piece of pizza\", score: 10}, // Its more fun if it FUNNY\n      {name: \"Snom\", score: 10},//snom needs to stay refrigerated. Snom is also awesome. I would do 11 if I could\n      {name: \"Leftover microwave ramen\", score: 10},\n      {name: \"Orange Juice\", score: 5},\n      {name: \"Carrots\", score: 3},\n      {name: \"Ranch Dressing\", score: 9},\n      {name: \"Strawberries\", score: 4},\n      {name: \"Grapes\", score: 1},\n      {name: \"Cheese\", score: 5},\n      {name: \"Salami\", score: 7},\n    ];\n  }\n  // Method to pick a random item from the fridge\n  randomItem() {\n    let randomIndex = Math.floor(Math.random() * this.fridgeItems.length);\n    return this.fridgeItems[randomIndex];\n  }\n  // Method to classify the find based on its score\n  classifyFind(score) { // Create an if -> return -> else -> return loop using youe scoring system to create an output of good, meh, bad\n    if (score > 6){\n      return (\"Yes! Gooood!!!\");\n    } else if (score > 3) {\n      return (\"Eh, meh. Not bad, though.\");\n    } else {\n      return (\"...Yeah, uhm, I dunno about this... I'll eat it if I have to, I guess...\");\n    }\n    }\n  // Reference method to start the game (Some fill in the blank)\n  fridgeGame() {\n    console.log(\"Hmm... what do I want to eat? Let's look in the fridge!\"); // Write a response\n    const item = this.randomItem();\n    console.log(`Oh, looks like I got ${item.name}!`); //fill in the () with a phrase on the item and a reference to the item\n    // Get feedback based on the item's score (unchanged you only need to fix the {} )\n    // find and fix the misisng pieces\n    const feedback = this.classifyFind(item.score);\n    console.log(`It is ${feedback} Score: ${item.score}`);\n  }\n}\n// Create an instance of the game  hint: const.\nconst fridgeGame = new Fridge();\n// Start the game by calling the play method hint .play\nfridgeGame.fridgeGame() ;\n",
      "text/plain": [
       "<IPython.core.display.Javascript object>"
      ]
     },
     "metadata": {},
     "output_type": "display_data"
    }
   ],
   "source": [
    "%%js\n",
    "// Fridge Mini-Game: Enhanced with scores and quality feedback\n",
    "//place class + constructor here\n",
    "class Fridge {\n",
    "  constructor() {\n",
    "    // Array of items in the fridge with their scores\n",
    "    this.fridgeItems = [ //Write in ten items found in a fridge and assign them a value of 1-10 (values can repeat)\n",
    "      {name: \"Piece of pizza\", score: 10}, // Its more fun if it FUNNY\n",
    "      {name: \"Snom\", score: 10},//snom needs to stay refrigerated. Snom is also awesome. I would do 11 if I could\n",
    "      {name: \"Leftover microwave ramen\", score: 10},\n",
    "      {name: \"Orange Juice\", score: 5},\n",
    "      {name: \"Carrots\", score: 3},\n",
    "      {name: \"Ranch Dressing\", score: 9},\n",
    "      {name: \"Strawberries\", score: 4},\n",
    "      {name: \"Grapes\", score: 1},\n",
    "      {name: \"Cheese\", score: 5},\n",
    "      {name: \"Salami\", score: 7},\n",
    "    ];\n",
    "  }\n",
    "  // Method to pick a random item from the fridge\n",
    "  randomItem() {\n",
    "    let randomIndex = Math.floor(Math.random() * this.fridgeItems.length);\n",
    "    return this.fridgeItems[randomIndex];\n",
    "  }\n",
    "  // Method to classify the find based on its score\n",
    "  classifyFind(score) { // Create an if -> return -> else -> return loop using youe scoring system to create an output of good, meh, bad\n",
    "    if (score > 6){\n",
    "      return (\"Yes! Gooood!!!\");\n",
    "    } else if (score > 3) {\n",
    "      return (\"Eh, meh. Not bad, though.\");\n",
    "    } else {\n",
    "      return (\"...Yeah, uhm, I dunno about this... I'll eat it if I have to, I guess...\");\n",
    "    }\n",
    "    }\n",
    "  // Reference method to start the game (Some fill in the blank)\n",
    "  fridgeGame() {\n",
    "    console.log(\"Hmm... what do I want to eat? Let's look in the fridge!\"); // Write a response\n",
    "    const item = this.randomItem();\n",
    "    console.log(`Oh, looks like I got ${item.name}!`); //fill in the () with a phrase on the item and a reference to the item\n",
    "    // Get feedback based on the item's score (unchanged you only need to fix the {} )\n",
    "    // find and fix the misisng pieces\n",
    "    const feedback = this.classifyFind(item.score);\n",
    "    console.log(`My judgement: ${feedback} Score: ${item.score}`);\n",
    "  }\n",
    "}\n",
    "// Create an instance of the game  hint: const.\n",
    "const fridgeGame = new Fridge();\n",
    "// Start the game by calling the play method hint .play\n",
    "fridgeGame.fridgeGame() ;"
   ]
  }
 ],
 "metadata": {
  "kernelspec": {
   "display_name": "Python 3",
   "language": "python",
   "name": "python3"
  },
  "language_info": {
   "codemirror_mode": {
    "name": "ipython",
    "version": 3
   },
   "file_extension": ".py",
   "mimetype": "text/x-python",
   "name": "python",
   "nbconvert_exporter": "python",
   "pygments_lexer": "ipython3",
   "version": "3.12.3"
  }
 },
 "nbformat": 4,
 "nbformat_minor": 2
}
