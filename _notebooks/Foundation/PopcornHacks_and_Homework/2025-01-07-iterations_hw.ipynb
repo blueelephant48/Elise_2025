{
 "cells": [
  {
   "cell_type": "raw",
   "metadata": {
    "vscode": {
     "languageId": "raw"
    }
   },
   "source": [
    "---\n",
    "layout: post\n",
    "title: Iterations Homework\n",
    "description:  Finished iterations homework!\n",
    "type: issues \n",
    "comments: true\n",
    "---"
   ]
  },
  {
   "cell_type": "markdown",
   "metadata": {},
   "source": [
    "### Exercise 1: Multiplication Table\n",
    "##### Write a JavaScript program to print the multiplication table for a given number."
   ]
  },
  {
   "cell_type": "markdown",
   "metadata": {},
   "source": [
    "##### Example:\n",
    "##### Input: 3\n",
    "##### Output:\n",
    "##### 3 x 1 = 3\n",
    "##### 3 x 2 = 6\n",
    "##### ...\n",
    "##### 3 x 10 = 30"
   ]
  },
  {
   "cell_type": "code",
   "execution_count": 4,
   "metadata": {
    "vscode": {
     "languageId": "javascript"
    }
   },
   "outputs": [
    {
     "data": {
      "application/javascript": "let number = 10;\nlet result;\nfor (let i=1; i<=10; i++){\n    result = 10*i;\n    console.log(`${number} x ${i} = ${result}`);\n}\n",
      "text/plain": [
       "<IPython.core.display.Javascript object>"
      ]
     },
     "metadata": {},
     "output_type": "display_data"
    }
   ],
   "source": [
    "%%js\n",
    "let number = 10;//declares number (that we later will be making a multiplication table for) as 10\n",
    "let result; //makes the result variable\n",
    "for (let i=1; i<=10; i++){ //repeats 10 times to make a multiplication table up to the 10s\n",
    "    result = number*i; //multiplies the number times i\n",
    "    console.log(`${number} x ${i} = ${result}`);//prints out \"number x i = result\" replace the variable names with the correct values\n",
    "}"
   ]
  },
  {
   "cell_type": "markdown",
   "metadata": {},
   "source": [
    "### Exercise 2: Nested Loops\n",
    "##### Write a JavaScript program using nested loops to generate the following pattern:"
   ]
  },
  {
   "cell_type": "markdown",
   "metadata": {},
   "source": [
    "##### Output:\n",
    "##### 0\n",
    "##### 00\n",
    "##### 000\n",
    "##### 0000\n",
    "##### 00000"
   ]
  },
  {
   "cell_type": "code",
   "execution_count": 6,
   "metadata": {
    "vscode": {
     "languageId": "javascript"
    }
   },
   "outputs": [
    {
     "data": {
      "application/javascript": "\nlet x=5;\nfor (let a=0; a < x; a++) {\n    let printAmount = \"0\";\n    for (let i=0; i<a; i++ ){\n        printAmount += \"0\";\n    }\n    console.log(printAmount);\n}\n",
      "text/plain": [
       "<IPython.core.display.Javascript object>"
      ]
     },
     "metadata": {},
     "output_type": "display_data"
    }
   ],
   "source": [
    "%%js\n",
    "\n",
    "let x=5;//sets x to 5 \n",
    "for (let a=0; a < x; a++) { //repeats x times\n",
    "    let printAmount = \"0\";//lets the print amount equal \"0\"\n",
    "        for (let i=0; i<a; i++ ){//repeats the iteration number that the first loop is on\n",
    "            printAmount += \"0\";\n",
    "        }\n",
    "    console.log(printAmount);//prints printAmount, which is \"0\" the amount of times that it was repeated in the previous loop\n",
    "}"
   ]
  },
  {
   "cell_type": "markdown",
   "metadata": {},
   "source": [
    "### Challenge Exercise: Prime Numbers\n",
    "##### Write a JavaScript program to print all prime numbers between 1 and 50."
   ]
  },
  {
   "cell_type": "code",
   "execution_count": 1,
   "metadata": {
    "vscode": {
     "languageId": "javascript"
    }
   },
   "outputs": [
    {
     "data": {
      "application/javascript": "\nlet x = 50;\n\nif (x <= 1){\n    console.log(\"No prime numbers found... :(\");\n} else {\n    const primeNumbers = [];\n    for(let i = 2; i <= x; i++){\n        let isPrime = true;\n        for(let a = 2; a <= Math.sqrt(i); a++){\n            if (i % a === 0){\n                isPrime = false;\n            }\n        }\n        if (isPrime){\n            primeNumbers.push(i);\n        }  \n    }\n    console.log(primeNumbers);\n}\n",
      "text/plain": [
       "<IPython.core.display.Javascript object>"
      ]
     },
     "metadata": {},
     "output_type": "display_data"
    }
   ],
   "source": [
    "%%js\n",
    "\n",
    "let x = 50; //sets x to 50, which is the amount that the program checks up to as 50\n",
    "\n",
    "if (x <= 1){//checks if x is less than or equal to 1\n",
    "    console.log(\"No prime numbers found... :(\"); //prints out that there are no prime numbers because there aren't any prime numbers under 1\n",
    "} else {\n",
    "    const primeNumbers = [];//initializes array for the list of prime numbers\n",
    "    for(let i = 2; i <= x; i++){//repeats from 2-50 (1 isn't prime, so we don't have to include that)\n",
    "        let isPrime = true;//assumes number is prime\n",
    "        for(let a = 2; a <= Math.sqrt(i); a++){//checks if there are factors from 2 to the square root of i, which is the number that is being checked\n",
    "            if (i % a === 0){//if it gives no remainder, then that number is a factor, and the number is not prime\n",
    "                isPrime = false;//isPrime is set to false\n",
    "            }\n",
    "        }\n",
    "        if (isPrime){\n",
    "            primeNumbers.push(i);// if the number passes all the checks, then the number is prime and is added to the array of prime numbers\n",
    "        }  \n",
    "    }\n",
    "    console.log(primeNumbers);//prints out the array of prime numbers\n",
    "}\n"
   ]
  },
  {
   "cell_type": "markdown",
   "metadata": {},
   "source": [
    "# End of Homework"
   ]
  }
 ],
 "metadata": {
  "kernelspec": {
   "display_name": "Python 3",
   "language": "python",
   "name": "python3"
  },
  "language_info": {
   "codemirror_mode": {
    "name": "ipython",
    "version": 3
   },
   "file_extension": ".py",
   "mimetype": "text/x-python",
   "name": "python",
   "nbconvert_exporter": "python",
   "pygments_lexer": "ipython3",
   "version": "3.12.3"
  }
 },
 "nbformat": 4,
 "nbformat_minor": 2
}
